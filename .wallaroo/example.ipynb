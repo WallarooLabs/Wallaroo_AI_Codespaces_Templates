{
 "cells": [
  {
   "cell_type": "code",
   "execution_count": null,
   "metadata": {},
   "outputs": [],
   "source": [
    "import wallaroo\n",
    "wallaroo.__version__"
   ]
  },
  {
   "cell_type": "code",
   "execution_count": null,
   "metadata": {},
   "outputs": [],
   "source": [
    "import os\n",
    "\n",
    "os.environ[\"ARROW_ENABLED\"]=\"True\"\n",
    "os.environ[\"MODELS_ENABLED\"]=\"True\"\n",
    "\n",
    "env_auth_host = os.environ['CODESPACE_NAME']+'-8080'\n",
    "env_api_host = os.environ['CODESPACE_NAME']+'-8443'\n",
    "env_domain = os.environ['GITHUB_CODESPACES_PORT_FORWARDING_DOMAIN']\n",
    "\n",
    "wl = wallaroo.Client(auth_type='sso', api_endpoint='https://'+env_api_host+'.'+env_domain,\n",
    "                    auth_endpoint='https://'+env_auth_host+'.'+env_domain)"
   ]
  }
 ],
 "metadata": {
  "kernelspec": {
   "display_name": "Python 3",
   "language": "python",
   "name": "python3"
  },
  "language_info": {
   "codemirror_mode": {
    "name": "ipython",
    "version": 3
   },
   "file_extension": ".py",
   "mimetype": "text/x-python",
   "name": "python",
   "nbconvert_exporter": "python",
   "pygments_lexer": "ipython3",
   "version": "3.10.8"
  },
  "orig_nbformat": 4
 },
 "nbformat": 4,
 "nbformat_minor": 2
}
